{
 "cells": [
  {
   "cell_type": "markdown",
   "id": "ebf3292b",
   "metadata": {},
   "source": [
    "## 1. Print a string that uses double quotation marks inside the string."
   ]
  },
  {
   "cell_type": "code",
   "execution_count": 18,
   "id": "b5dce67b",
   "metadata": {},
   "outputs": [
    {
     "data": {
      "text/plain": [
       "'She said,\"What are you doing here ?\" go home'"
      ]
     },
     "execution_count": 18,
     "metadata": {},
     "output_type": "execute_result"
    }
   ],
   "source": [
    "# Here quotation mark of delimiter inside a string is addressed as symbol\n",
    "\n",
    "msg = 'She said,\"What are you doing here ?\" go home'  \n",
    "msg"
   ]
  },
  {
   "cell_type": "markdown",
   "id": "70ed985c",
   "metadata": {},
   "source": [
    "."
   ]
  },
  {
   "cell_type": "code",
   "execution_count": 29,
   "id": "555b413b",
   "metadata": {},
   "outputs": [
    {
     "data": {
      "text/plain": [
       "'She said,\"What are you doing here ?\" go home'"
      ]
     },
     "execution_count": 29,
     "metadata": {},
     "output_type": "execute_result"
    }
   ],
   "source": [
    "#When you include quotation mark that matches the delimiter inside a string then you can escape the character using a backslash\n",
    "\n",
    "msg = \"She said,\\\"What are you doing here ?\\\" go home\"\n",
    "msg"
   ]
  },
  {
   "cell_type": "markdown",
   "id": "99abb802",
   "metadata": {},
   "source": [
    "."
   ]
  },
  {
   "cell_type": "markdown",
   "id": "f659550a",
   "metadata": {},
   "source": [
    "## 2. Print a string that uses an apostrophe inside the string."
   ]
  },
  {
   "cell_type": "code",
   "execution_count": 15,
   "id": "d3908455",
   "metadata": {},
   "outputs": [
    {
     "data": {
      "text/plain": [
       "\"she's always on time\""
      ]
     },
     "execution_count": 15,
     "metadata": {},
     "output_type": "execute_result"
    }
   ],
   "source": [
    "a = \"she's always on time\"          ## Here we use double quotation for string\n",
    "a"
   ]
  },
  {
   "cell_type": "code",
   "execution_count": 30,
   "id": "594cd232",
   "metadata": {},
   "outputs": [
    {
     "data": {
      "text/plain": [
       "\"she's always on time\""
      ]
     },
     "execution_count": 30,
     "metadata": {},
     "output_type": "execute_result"
    }
   ],
   "source": [
    "b = 'she\\'s always on time'          ## Here we use a single quotation for string\n",
    "b"
   ]
  },
  {
   "cell_type": "markdown",
   "id": "7aa43a56",
   "metadata": {},
   "source": [
    "## 3. Print a string that spans multiple lines with whitespace preserved."
   ]
  },
  {
   "cell_type": "code",
   "execution_count": 51,
   "id": "eb315909",
   "metadata": {},
   "outputs": [
    {
     "data": {
      "text/plain": [
       "\"       Hello, How are you. I'm fine.\""
      ]
     },
     "execution_count": 51,
     "metadata": {},
     "output_type": "execute_result"
    }
   ],
   "source": [
    "c = '       Hello, \\\n",
    "How are you. I\\'m \\\n",
    "fine.'\n",
    "c"
   ]
  },
  {
   "cell_type": "markdown",
   "id": "c2986194",
   "metadata": {},
   "source": [
    "## 4. Print a string that is coded on multiple lines but gets printed on a single line."
   ]
  },
  {
   "cell_type": "code",
   "execution_count": 56,
   "id": "f1d5a2a7",
   "metadata": {},
   "outputs": [
    {
     "data": {
      "text/plain": [
       "'I hope you are doing well this morning.'"
      ]
     },
     "execution_count": 56,
     "metadata": {},
     "output_type": "execute_result"
    }
   ],
   "source": [
    "d = \"I hope you \\\n",
    "are doing \\\n",
    "well this \\\n",
    "morning.\"\n",
    "d"
   ]
  },
  {
   "cell_type": "markdown",
   "id": "f81c93c0",
   "metadata": {},
   "source": [
    "## 5. Correct following python code\n",
    "mystr = \"My favourite TV Series is \"Game of Thrones\"\""
   ]
  },
  {
   "cell_type": "code",
   "execution_count": 58,
   "id": "b16a0d2a",
   "metadata": {},
   "outputs": [
    {
     "data": {
      "text/plain": [
       "'My favourite TV Series is \"Game of Thrones\"'"
      ]
     },
     "execution_count": 58,
     "metadata": {},
     "output_type": "execute_result"
    }
   ],
   "source": [
    "mystr = \"My favourite TV Series is \\\"Game of Thrones\\\"\"\n",
    "mystr"
   ]
  }
 ],
 "metadata": {
  "kernelspec": {
   "display_name": "Python 3 (ipykernel)",
   "language": "python",
   "name": "python3"
  },
  "language_info": {
   "codemirror_mode": {
    "name": "ipython",
    "version": 3
   },
   "file_extension": ".py",
   "mimetype": "text/x-python",
   "name": "python",
   "nbconvert_exporter": "python",
   "pygments_lexer": "ipython3",
   "version": "3.9.12"
  }
 },
 "nbformat": 4,
 "nbformat_minor": 5
}
