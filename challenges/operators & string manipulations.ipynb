{
 "cells": [
  {
   "cell_type": "markdown",
   "id": "af33b5e0",
   "metadata": {},
   "source": [
    "# Operators & String manipulations"
   ]
  },
  {
   "cell_type": "markdown",
   "id": "058ea5e5",
   "metadata": {},
   "source": [
    "### Conversion Of Types"
   ]
  },
  {
   "cell_type": "code",
   "execution_count": 4,
   "id": "528e8810",
   "metadata": {},
   "outputs": [
    {
     "data": {
      "text/plain": [
       "3.0"
      ]
     },
     "execution_count": 4,
     "metadata": {},
     "output_type": "execute_result"
    }
   ],
   "source": [
    "## from int to float\n",
    "\n",
    "a = 3\n",
    "a\n",
    "float(a)"
   ]
  },
  {
   "cell_type": "code",
   "execution_count": 5,
   "id": "494e2759",
   "metadata": {},
   "outputs": [
    {
     "data": {
      "text/plain": [
       "3"
      ]
     },
     "execution_count": 5,
     "metadata": {},
     "output_type": "execute_result"
    }
   ],
   "source": [
    "## from float to int\n",
    "\n",
    "b = 3.3\n",
    "b\n",
    "int(b)"
   ]
  },
  {
   "cell_type": "code",
   "execution_count": 6,
   "id": "550d9c66",
   "metadata": {},
   "outputs": [
    {
     "data": {
      "text/plain": [
       "'7'"
      ]
     },
     "execution_count": 6,
     "metadata": {},
     "output_type": "execute_result"
    }
   ],
   "source": [
    "## from int to string\n",
    "\n",
    "c = 7\n",
    "c\n",
    "f = str(c)\n",
    "f"
   ]
  },
  {
   "cell_type": "code",
   "execution_count": 9,
   "id": "cb31de09",
   "metadata": {},
   "outputs": [
    {
     "data": {
      "text/plain": [
       "int"
      ]
     },
     "execution_count": 9,
     "metadata": {},
     "output_type": "execute_result"
    }
   ],
   "source": [
    "type(a)"
   ]
  },
  {
   "cell_type": "code",
   "execution_count": 10,
   "id": "357a6548",
   "metadata": {},
   "outputs": [
    {
     "data": {
      "text/plain": [
       "float"
      ]
     },
     "execution_count": 10,
     "metadata": {},
     "output_type": "execute_result"
    }
   ],
   "source": [
    "type(b)"
   ]
  },
  {
   "cell_type": "code",
   "execution_count": 11,
   "id": "55680b07",
   "metadata": {},
   "outputs": [
    {
     "data": {
      "text/plain": [
       "int"
      ]
     },
     "execution_count": 11,
     "metadata": {},
     "output_type": "execute_result"
    }
   ],
   "source": [
    "type(c)"
   ]
  },
  {
   "cell_type": "code",
   "execution_count": 12,
   "id": "9cf55bc8",
   "metadata": {},
   "outputs": [
    {
     "data": {
      "text/plain": [
       "str"
      ]
     },
     "execution_count": 12,
     "metadata": {},
     "output_type": "execute_result"
    }
   ],
   "source": [
    "type(f)"
   ]
  },
  {
   "cell_type": "code",
   "execution_count": 13,
   "id": "1aac91b8",
   "metadata": {},
   "outputs": [
    {
     "ename": "ValueError",
     "evalue": "invalid literal for int() with base 10: 'Akanksha'",
     "output_type": "error",
     "traceback": [
      "\u001b[1;31m---------------------------------------------------------------------------\u001b[0m",
      "\u001b[1;31mValueError\u001b[0m                                Traceback (most recent call last)",
      "Input \u001b[1;32mIn [13]\u001b[0m, in \u001b[0;36m<cell line: 5>\u001b[1;34m()\u001b[0m\n\u001b[0;32m      1\u001b[0m \u001b[38;5;66;03m####  But we can't convert string into an int or float type.\u001b[39;00m\n\u001b[0;32m      4\u001b[0m P \u001b[38;5;241m=\u001b[39m \u001b[38;5;124m'\u001b[39m\u001b[38;5;124mAkanksha\u001b[39m\u001b[38;5;124m'\u001b[39m\n\u001b[1;32m----> 5\u001b[0m Q \u001b[38;5;241m=\u001b[39m \u001b[38;5;28;43mint\u001b[39;49m\u001b[43m(\u001b[49m\u001b[43mP\u001b[49m\u001b[43m)\u001b[49m\n\u001b[0;32m      6\u001b[0m \u001b[38;5;28mprint\u001b[39m(Q)\n",
      "\u001b[1;31mValueError\u001b[0m: invalid literal for int() with base 10: 'Akanksha'"
     ]
    }
   ],
   "source": [
    "####  But we can't convert string into an int or float type.\n",
    "\n",
    "\n",
    "P = 'Akanksha'\n",
    "Q = int(P)\n",
    "print(Q)"
   ]
  },
  {
   "cell_type": "markdown",
   "id": "0fd682d1",
   "metadata": {},
   "source": [
    "### This will always gives an error"
   ]
  },
  {
   "cell_type": "markdown",
   "id": "ec69f83e",
   "metadata": {},
   "source": [
    "### Arithmetic operators"
   ]
  },
  {
   "cell_type": "code",
   "execution_count": 15,
   "id": "f3e67f73",
   "metadata": {},
   "outputs": [],
   "source": [
    "P = 8\n",
    "Q = 9\n",
    "R = 10"
   ]
  },
  {
   "cell_type": "code",
   "execution_count": 17,
   "id": "febbfbdc",
   "metadata": {},
   "outputs": [
    {
     "data": {
      "text/plain": [
       "17"
      ]
     },
     "execution_count": 17,
     "metadata": {},
     "output_type": "execute_result"
    }
   ],
   "source": [
    "add = P+Q\n",
    "add"
   ]
  },
  {
   "cell_type": "code",
   "execution_count": 18,
   "id": "a6f3edda",
   "metadata": {},
   "outputs": [
    {
     "data": {
      "text/plain": [
       "1"
      ]
     },
     "execution_count": 18,
     "metadata": {},
     "output_type": "execute_result"
    }
   ],
   "source": [
    "sub = R-Q\n",
    "sub"
   ]
  },
  {
   "cell_type": "code",
   "execution_count": 19,
   "id": "dc81f128",
   "metadata": {},
   "outputs": [
    {
     "data": {
      "text/plain": [
       "72"
      ]
     },
     "execution_count": 19,
     "metadata": {},
     "output_type": "execute_result"
    }
   ],
   "source": [
    "mult = P*Q\n",
    "mult"
   ]
  },
  {
   "cell_type": "code",
   "execution_count": 20,
   "id": "5118c2fe",
   "metadata": {},
   "outputs": [
    {
     "data": {
      "text/plain": [
       "0.9"
      ]
     },
     "execution_count": 20,
     "metadata": {},
     "output_type": "execute_result"
    }
   ],
   "source": [
    "div = Q/R\n",
    "div"
   ]
  },
  {
   "cell_type": "code",
   "execution_count": 21,
   "id": "2ce13184",
   "metadata": {},
   "outputs": [
    {
     "data": {
      "text/plain": [
       "1"
      ]
     },
     "execution_count": 21,
     "metadata": {},
     "output_type": "execute_result"
    }
   ],
   "source": [
    "mod = R%Q\n",
    "mod"
   ]
  },
  {
   "cell_type": "code",
   "execution_count": 22,
   "id": "de92d4ff",
   "metadata": {},
   "outputs": [
    {
     "data": {
      "text/plain": [
       "1000000000"
      ]
     },
     "execution_count": 22,
     "metadata": {},
     "output_type": "execute_result"
    }
   ],
   "source": [
    "pow = R**Q\n",
    "pow"
   ]
  },
  {
   "cell_type": "code",
   "execution_count": 23,
   "id": "0ebbcf74",
   "metadata": {},
   "outputs": [
    {
     "data": {
      "text/plain": [
       "1"
      ]
     },
     "execution_count": 23,
     "metadata": {},
     "output_type": "execute_result"
    }
   ],
   "source": [
    "floor = R//P\n",
    "floor"
   ]
  },
  {
   "cell_type": "code",
   "execution_count": 24,
   "id": "9a722f1e",
   "metadata": {},
   "outputs": [
    {
     "data": {
      "text/plain": [
       "16"
      ]
     },
     "execution_count": 24,
     "metadata": {},
     "output_type": "execute_result"
    }
   ],
   "source": [
    "ceiling = (P+Q)-R//P\n",
    "ceiling"
   ]
  },
  {
   "cell_type": "markdown",
   "id": "b5ba9d6e",
   "metadata": {},
   "source": [
    "### Logical operators"
   ]
  },
  {
   "cell_type": "code",
   "execution_count": 26,
   "id": "9c79325b",
   "metadata": {},
   "outputs": [],
   "source": [
    "x = 30\n",
    "y = 40"
   ]
  },
  {
   "cell_type": "code",
   "execution_count": 30,
   "id": "aa8ca308",
   "metadata": {},
   "outputs": [
    {
     "name": "stdout",
     "output_type": "stream",
     "text": [
      "x is greater than y:-  False\n"
     ]
    }
   ],
   "source": [
    "## Greater than\n",
    "\n",
    "print('x is greater than y:- ',x>y)"
   ]
  },
  {
   "cell_type": "code",
   "execution_count": 31,
   "id": "56612b0c",
   "metadata": {},
   "outputs": [
    {
     "name": "stdout",
     "output_type": "stream",
     "text": [
      "x is less than y:-  True\n"
     ]
    }
   ],
   "source": [
    "## Less than\n",
    "\n",
    "print('x is less than y:- ',x<y)"
   ]
  },
  {
   "cell_type": "code",
   "execution_count": 32,
   "id": "9c2efaa9",
   "metadata": {},
   "outputs": [
    {
     "name": "stdout",
     "output_type": "stream",
     "text": [
      "x is greater than or equal to y:-  False\n"
     ]
    }
   ],
   "source": [
    "## Greater than or equal to\n",
    "\n",
    "print('x is greater than or equal to y:- ',x>=y)"
   ]
  },
  {
   "cell_type": "code",
   "execution_count": 33,
   "id": "7ef68d3d",
   "metadata": {},
   "outputs": [
    {
     "name": "stdout",
     "output_type": "stream",
     "text": [
      "x is less than or equal to y:-  True\n"
     ]
    }
   ],
   "source": [
    "## Less than or equal to\n",
    "\n",
    "print('x is less than or equal to y:- ',x<=y)"
   ]
  },
  {
   "cell_type": "code",
   "execution_count": 35,
   "id": "d9ad6eac",
   "metadata": {},
   "outputs": [
    {
     "name": "stdout",
     "output_type": "stream",
     "text": [
      "x is equal to y:-  False\n"
     ]
    }
   ],
   "source": [
    "## Equal to\n",
    "\n",
    "print('x is equal to y:- ',x==y)"
   ]
  },
  {
   "cell_type": "code",
   "execution_count": 36,
   "id": "e5b9a4fb",
   "metadata": {},
   "outputs": [
    {
     "name": "stdout",
     "output_type": "stream",
     "text": [
      "x is not equal to y:-  True\n"
     ]
    }
   ],
   "source": [
    "## Not equal to\n",
    "\n",
    "print('x is not equal to y:- ',x!=y)"
   ]
  },
  {
   "cell_type": "code",
   "execution_count": 38,
   "id": "91e91d1f",
   "metadata": {},
   "outputs": [
    {
     "name": "stdout",
     "output_type": "stream",
     "text": [
      "Logical AND operation :-  False\n",
      "Logical OR operation :-  True\n",
      "NOT operation :-  False\n"
     ]
    }
   ],
   "source": [
    "x = True\n",
    "y = False\n",
    "\n",
    "print('Logical AND operation :- ',x and y)     ## True if both values are true\n",
    "print('Logical OR operation :- ',x or y)       ## True if either of the values is true\n",
    "print('NOT operation :- ',not x )              ## True if operand is false"
   ]
  },
  {
   "cell_type": "markdown",
   "id": "af6bb9dc",
   "metadata": {},
   "source": [
    "### String"
   ]
  },
  {
   "cell_type": "code",
   "execution_count": 43,
   "id": "dcdd0a44",
   "metadata": {},
   "outputs": [
    {
     "data": {
      "text/plain": [
       "str"
      ]
     },
     "execution_count": 43,
     "metadata": {},
     "output_type": "execute_result"
    }
   ],
   "source": [
    "V = \"Akanksha\"\n",
    "V\n",
    "type(V)"
   ]
  },
  {
   "cell_type": "code",
   "execution_count": 44,
   "id": "40aa013b",
   "metadata": {},
   "outputs": [
    {
     "data": {
      "text/plain": [
       "str"
      ]
     },
     "execution_count": 44,
     "metadata": {},
     "output_type": "execute_result"
    }
   ],
   "source": [
    "str = \"Good Luck\"\n",
    "str\n",
    "type(str)"
   ]
  },
  {
   "cell_type": "markdown",
   "id": "a57e1bb3",
   "metadata": {},
   "source": [
    "### If you need to include a quotation mark that matches the delimiter inside a string, then you can escape the character using a backslash :"
   ]
  },
  {
   "cell_type": "code",
   "execution_count": 46,
   "id": "013292f6",
   "metadata": {},
   "outputs": [
    {
     "data": {
      "text/plain": [
       "'She said, \"What are you doing ?\" Come here'"
      ]
     },
     "execution_count": 46,
     "metadata": {},
     "output_type": "execute_result"
    }
   ],
   "source": [
    "msg = \"She said, \\\"What are you doing ?\\\" Come here\"\n",
    "msg"
   ]
  },
  {
   "cell_type": "markdown",
   "id": "11875e19",
   "metadata": {},
   "source": [
    "### Operations on string"
   ]
  },
  {
   "cell_type": "code",
   "execution_count": 48,
   "id": "932f806d",
   "metadata": {},
   "outputs": [
    {
     "data": {
      "text/plain": [
       "3"
      ]
     },
     "execution_count": 48,
     "metadata": {},
     "output_type": "execute_result"
    }
   ],
   "source": [
    "str = 'PQR'\n",
    "len(str)"
   ]
  },
  {
   "cell_type": "code",
   "execution_count": 57,
   "id": "ce2032cd",
   "metadata": {},
   "outputs": [
    {
     "name": "stdout",
     "output_type": "stream",
     "text": [
      "string concatenation:-  Hi Everyone, This is Akanksha.\n"
     ]
    }
   ],
   "source": [
    "s1= \"Hi Everyone,\"\n",
    "s2= \" This is Akanksha.\"\n",
    "s3=print('string concatenation:- ',s1 + s2)"
   ]
  },
  {
   "cell_type": "code",
   "execution_count": 59,
   "id": "bd5420d3",
   "metadata": {},
   "outputs": [
    {
     "data": {
      "text/plain": [
       "18"
      ]
     },
     "execution_count": 59,
     "metadata": {},
     "output_type": "execute_result"
    }
   ],
   "source": [
    "len(s2)"
   ]
  },
  {
   "cell_type": "code",
   "execution_count": 60,
   "id": "8e977607",
   "metadata": {},
   "outputs": [
    {
     "data": {
      "text/plain": [
       "' This is Akanksha. This is Akanksha.'"
      ]
     },
     "execution_count": 60,
     "metadata": {},
     "output_type": "execute_result"
    }
   ],
   "source": [
    "s2*2"
   ]
  },
  {
   "cell_type": "code",
   "execution_count": 61,
   "id": "9892c00b",
   "metadata": {},
   "outputs": [
    {
     "data": {
      "text/plain": [
       "'son'"
      ]
     },
     "execution_count": 61,
     "metadata": {},
     "output_type": "execute_result"
    }
   ],
   "source": [
    "## replacement of letters\n",
    "word = 'sun'\n",
    "word.replace('u','o')\n"
   ]
  },
  {
   "cell_type": "code",
   "execution_count": 64,
   "id": "e13f0278",
   "metadata": {},
   "outputs": [
    {
     "data": {
      "text/plain": [
       "'Akanksha'"
      ]
     },
     "execution_count": 64,
     "metadata": {},
     "output_type": "execute_result"
    }
   ],
   "source": [
    "## Indexing\n",
    "\n",
    "Name = 'Akanksha'\n",
    "Name"
   ]
  },
  {
   "cell_type": "code",
   "execution_count": 72,
   "id": "a371d929",
   "metadata": {},
   "outputs": [
    {
     "data": {
      "text/plain": [
       "8"
      ]
     },
     "execution_count": 72,
     "metadata": {},
     "output_type": "execute_result"
    }
   ],
   "source": [
    "n=len(Name)\n",
    "n"
   ]
  },
  {
   "cell_type": "code",
   "execution_count": 66,
   "id": "3098dee1",
   "metadata": {},
   "outputs": [
    {
     "data": {
      "text/plain": [
       "'n'"
      ]
     },
     "execution_count": 66,
     "metadata": {},
     "output_type": "execute_result"
    }
   ],
   "source": [
    "Name[3]"
   ]
  },
  {
   "cell_type": "code",
   "execution_count": 68,
   "id": "e9dc4aad",
   "metadata": {},
   "outputs": [
    {
     "data": {
      "text/plain": [
       "'h'"
      ]
     },
     "execution_count": 68,
     "metadata": {},
     "output_type": "execute_result"
    }
   ],
   "source": [
    "Name[6]"
   ]
  },
  {
   "cell_type": "code",
   "execution_count": 69,
   "id": "043a1111",
   "metadata": {},
   "outputs": [
    {
     "data": {
      "text/plain": [
       "'a'"
      ]
     },
     "execution_count": 69,
     "metadata": {},
     "output_type": "execute_result"
    }
   ],
   "source": [
    "Name[-1]"
   ]
  },
  {
   "cell_type": "code",
   "execution_count": 70,
   "id": "dc4e624b",
   "metadata": {},
   "outputs": [
    {
     "data": {
      "text/plain": [
       "'k'"
      ]
     },
     "execution_count": 70,
     "metadata": {},
     "output_type": "execute_result"
    }
   ],
   "source": [
    "Name[-4]"
   ]
  },
  {
   "cell_type": "code",
   "execution_count": 71,
   "id": "ccb07943",
   "metadata": {},
   "outputs": [
    {
     "data": {
      "text/plain": [
       "'a'"
      ]
     },
     "execution_count": 71,
     "metadata": {},
     "output_type": "execute_result"
    }
   ],
   "source": [
    "## Last character in string\n",
    "\n",
    "Name[len(Name)-1]   ## n-1= 8-1=> 7"
   ]
  },
  {
   "cell_type": "markdown",
   "id": "8722e20b",
   "metadata": {},
   "source": [
    "### Slicing"
   ]
  },
  {
   "cell_type": "code",
   "execution_count": 74,
   "id": "0b0bd5d7",
   "metadata": {},
   "outputs": [
    {
     "data": {
      "text/plain": [
       "'Akank'"
      ]
     },
     "execution_count": 74,
     "metadata": {},
     "output_type": "execute_result"
    }
   ],
   "source": [
    "Name[0:5]"
   ]
  },
  {
   "cell_type": "code",
   "execution_count": 76,
   "id": "82fe854a",
   "metadata": {},
   "outputs": [
    {
     "data": {
      "text/plain": [
       "'Akanksha'"
      ]
     },
     "execution_count": 76,
     "metadata": {},
     "output_type": "execute_result"
    }
   ],
   "source": [
    "Name[:8]"
   ]
  },
  {
   "cell_type": "code",
   "execution_count": 77,
   "id": "daf95364",
   "metadata": {},
   "outputs": [
    {
     "data": {
      "text/plain": [
       "'Akanksha'"
      ]
     },
     "execution_count": 77,
     "metadata": {},
     "output_type": "execute_result"
    }
   ],
   "source": [
    "Name[0:]"
   ]
  },
  {
   "cell_type": "code",
   "execution_count": 80,
   "id": "ad53567f",
   "metadata": {},
   "outputs": [
    {
     "data": {
      "text/plain": [
       "'Akanksha'"
      ]
     },
     "execution_count": 80,
     "metadata": {},
     "output_type": "execute_result"
    }
   ],
   "source": [
    "Name[-8:]"
   ]
  },
  {
   "cell_type": "code",
   "execution_count": 92,
   "id": "de0d3c3d",
   "metadata": {},
   "outputs": [
    {
     "data": {
      "text/plain": [
       "6"
      ]
     },
     "execution_count": 92,
     "metadata": {},
     "output_type": "execute_result"
    }
   ],
   "source": [
    "Name.index('h')"
   ]
  },
  {
   "cell_type": "markdown",
   "id": "b4e02e60",
   "metadata": {},
   "source": [
    "###  Place holder "
   ]
  },
  {
   "cell_type": "code",
   "execution_count": 94,
   "id": "a28d040f",
   "metadata": {},
   "outputs": [
    {
     "data": {
      "text/plain": [
       "'My name is Akanksha'"
      ]
     },
     "execution_count": 94,
     "metadata": {},
     "output_type": "execute_result"
    }
   ],
   "source": [
    "state = \"My name is \"\n",
    "\n",
    "state + \"Akanksha\" "
   ]
  },
  {
   "cell_type": "code",
   "execution_count": 99,
   "id": "f486df4e",
   "metadata": {},
   "outputs": [
    {
     "data": {
      "text/plain": [
       "'Her name is Akanksha '"
      ]
     },
     "execution_count": 99,
     "metadata": {},
     "output_type": "execute_result"
    }
   ],
   "source": [
    "## instead of doing concatenation we use string place holder\n",
    "\n",
    "a = \"Her name is %s \"   ### s for string\n",
    "a%(\"Akanksha\")"
   ]
  },
  {
   "cell_type": "code",
   "execution_count": 107,
   "id": "eaa36e1e",
   "metadata": {},
   "outputs": [
    {
     "data": {
      "text/plain": [
       "'Her age is 23 '"
      ]
     },
     "execution_count": 107,
     "metadata": {},
     "output_type": "execute_result"
    }
   ],
   "source": [
    "b = \"Her age is %d \"    ### d for int\n",
    "b%(23)"
   ]
  },
  {
   "cell_type": "code",
   "execution_count": 108,
   "id": "38e58095",
   "metadata": {},
   "outputs": [
    {
     "data": {
      "text/plain": [
       "'Her height is 5.400000 '"
      ]
     },
     "execution_count": 108,
     "metadata": {},
     "output_type": "execute_result"
    }
   ],
   "source": [
    "c = \"Her height is %f \"\n",
    "c%(5.4)"
   ]
  },
  {
   "cell_type": "code",
   "execution_count": 109,
   "id": "73469e9d",
   "metadata": {},
   "outputs": [
    {
     "data": {
      "text/plain": [
       "'My name is Akanksha and i am 23 year old'"
      ]
     },
     "execution_count": 109,
     "metadata": {},
     "output_type": "execute_result"
    }
   ],
   "source": [
    "### we can use multiple holder at a time\n",
    "\n",
    "D = \"My name is %s and i am %d year old\"\n",
    "D%(\"Akanksha\",23)"
   ]
  },
  {
   "cell_type": "markdown",
   "id": "affae03a",
   "metadata": {},
   "source": [
    "### String Functions"
   ]
  },
  {
   "cell_type": "code",
   "execution_count": 110,
   "id": "288b2677",
   "metadata": {},
   "outputs": [
    {
     "data": {
      "text/plain": [
       "'   Hello Everyone '"
      ]
     },
     "execution_count": 110,
     "metadata": {},
     "output_type": "execute_result"
    }
   ],
   "source": [
    "mystr = \"   Hello Everyone \"\n",
    "mystr"
   ]
  },
  {
   "cell_type": "code",
   "execution_count": 113,
   "id": "08f3a242",
   "metadata": {},
   "outputs": [
    {
     "data": {
      "text/plain": [
       "'Hello Everyone'"
      ]
     },
     "execution_count": 113,
     "metadata": {},
     "output_type": "execute_result"
    }
   ],
   "source": [
    "## Removes white space from begining & end\n",
    "\n",
    "A = mystr.strip() \n",
    "A"
   ]
  },
  {
   "cell_type": "code",
   "execution_count": 114,
   "id": "1dc7edbd",
   "metadata": {},
   "outputs": [
    {
     "data": {
      "text/plain": [
       "'hello everyone'"
      ]
     },
     "execution_count": 114,
     "metadata": {},
     "output_type": "execute_result"
    }
   ],
   "source": [
    "## Return whole string in lowercase \n",
    "\n",
    "A.lower()"
   ]
  },
  {
   "cell_type": "code",
   "execution_count": 115,
   "id": "ee1d1e98",
   "metadata": {},
   "outputs": [
    {
     "data": {
      "text/plain": [
       "'HELLO EVERYONE'"
      ]
     },
     "execution_count": 115,
     "metadata": {},
     "output_type": "execute_result"
    }
   ],
   "source": [
    "## Return whole string in uppercase \n",
    "\n",
    "A.upper()"
   ]
  },
  {
   "cell_type": "code",
   "execution_count": 116,
   "id": "1055f945",
   "metadata": {},
   "outputs": [
    {
     "data": {
      "text/plain": [
       "3"
      ]
     },
     "execution_count": 116,
     "metadata": {},
     "output_type": "execute_result"
    }
   ],
   "source": [
    "### count\n",
    "\n",
    "mystr1 = \"Hello world,Hello Everyone,Hello folks\"\n",
    "mystr1.count(\"Hello\")                             ## Number of times substring \"Hello\" occurred in string."
   ]
  }
 ],
 "metadata": {
  "kernelspec": {
   "display_name": "Python 3 (ipykernel)",
   "language": "python",
   "name": "python3"
  },
  "language_info": {
   "codemirror_mode": {
    "name": "ipython",
    "version": 3
   },
   "file_extension": ".py",
   "mimetype": "text/x-python",
   "name": "python",
   "nbconvert_exporter": "python",
   "pygments_lexer": "ipython3",
   "version": "3.9.12"
  }
 },
 "nbformat": 4,
 "nbformat_minor": 5
}
