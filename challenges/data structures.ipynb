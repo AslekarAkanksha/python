{
 "cells": [
  {
   "cell_type": "markdown",
   "id": "17039136",
   "metadata": {},
   "source": [
    "# Data Structures"
   ]
  },
  {
   "cell_type": "markdown",
   "id": "97df94db",
   "metadata": {},
   "source": [
    " ### Exercise 1\n",
    " *  Create a tuple of 3 names: \"john\", \"sia\" and \"ria\""
   ]
  },
  {
   "cell_type": "code",
   "execution_count": 14,
   "id": "3cc24b5c",
   "metadata": {},
   "outputs": [
    {
     "data": {
      "text/plain": [
       "('john', 'sia', 'ria')"
      ]
     },
     "execution_count": 14,
     "metadata": {},
     "output_type": "execute_result"
    }
   ],
   "source": [
    "tup = (\"john\",\"sia\",\"ria\")\n",
    "tup"
   ]
  },
  {
   "cell_type": "markdown",
   "id": "0dcc43e9",
   "metadata": {},
   "source": [
    "### Exercise 2\n",
    " * Display the second object in the tuple"
   ]
  },
  {
   "cell_type": "code",
   "execution_count": 34,
   "id": "cf0c22d0",
   "metadata": {},
   "outputs": [
    {
     "data": {
      "text/plain": [
       "'sia'"
      ]
     },
     "execution_count": 34,
     "metadata": {},
     "output_type": "execute_result"
    }
   ],
   "source": [
    "tup[1]     ## Second object"
   ]
  },
  {
   "cell_type": "markdown",
   "id": "dd208c39",
   "metadata": {},
   "source": [
    "### Exercise 3\n",
    " * Create a tuple containing the letters of your name from a string"
   ]
  },
  {
   "cell_type": "code",
   "execution_count": 49,
   "id": "91720ec5",
   "metadata": {},
   "outputs": [
    {
     "data": {
      "text/plain": [
       "('A', 'k', 'a', 'n', 'k', 's', 'h', 'a')"
      ]
     },
     "execution_count": 49,
     "metadata": {},
     "output_type": "execute_result"
    }
   ],
   "source": [
    "## Create a string\n",
    "\n",
    "name = \"Akanksha\" \n",
    "name[0],name[1],name[2],name[3],name[4],name[5],name[6],name[7] "
   ]
  },
  {
   "cell_type": "markdown",
   "id": "da1c8b58",
   "metadata": {},
   "source": [
    "    - Another method"
   ]
  },
  {
   "cell_type": "code",
   "execution_count": 50,
   "id": "404bf670",
   "metadata": {},
   "outputs": [
    {
     "data": {
      "text/plain": [
       "('A', 'k', 'a', 'n', 'k', 's', 'h', 'a')"
      ]
     },
     "execution_count": 50,
     "metadata": {},
     "output_type": "execute_result"
    }
   ],
   "source": [
    "name = \"Akanksha\"\n",
    "tuple(name)"
   ]
  },
  {
   "cell_type": "markdown",
   "id": "14bb3589",
   "metadata": {},
   "source": [
    "### Exercise 4\n",
    " * Create a list of 3 names: \"john\", \"sia\" and \"ria\""
   ]
  },
  {
   "cell_type": "code",
   "execution_count": 51,
   "id": "419d2e75",
   "metadata": {},
   "outputs": [
    {
     "data": {
      "text/plain": [
       "['john', 'sia', 'ria']"
      ]
     },
     "execution_count": 51,
     "metadata": {},
     "output_type": "execute_result"
    }
   ],
   "source": [
    "name_1 = [\"john\",\"sia\",\"ria\"]\n",
    "name_1"
   ]
  },
  {
   "cell_type": "markdown",
   "id": "997b8ef8",
   "metadata": {},
   "source": [
    "### Exercise 5\n",
    " * Append the string \"elena\" to the names list using .append()"
   ]
  },
  {
   "cell_type": "code",
   "execution_count": 52,
   "id": "feda2a14",
   "metadata": {},
   "outputs": [
    {
     "data": {
      "text/plain": [
       "['john', 'sia', 'ria', 'elena']"
      ]
     },
     "execution_count": 52,
     "metadata": {},
     "output_type": "execute_result"
    }
   ],
   "source": [
    "name_1.append(\"elena\")\n",
    "name_1"
   ]
  },
  {
   "cell_type": "markdown",
   "id": "6bb62033",
   "metadata": {},
   "source": [
    "### Exercise 6\n",
    " * Print the last item in names list"
   ]
  },
  {
   "cell_type": "code",
   "execution_count": 53,
   "id": "6d44b198",
   "metadata": {},
   "outputs": [
    {
     "data": {
      "text/plain": [
       "'elena'"
      ]
     },
     "execution_count": 53,
     "metadata": {},
     "output_type": "execute_result"
    }
   ],
   "source": [
    "name_1[-1]"
   ]
  },
  {
   "cell_type": "markdown",
   "id": "d92f911b",
   "metadata": {},
   "source": [
    "### Exercise 7\n",
    " * check 'john' name's length using len()"
   ]
  },
  {
   "cell_type": "code",
   "execution_count": 54,
   "id": "9cb3fd22",
   "metadata": {},
   "outputs": [
    {
     "data": {
      "text/plain": [
       "4"
      ]
     },
     "execution_count": 54,
     "metadata": {},
     "output_type": "execute_result"
    }
   ],
   "source": [
    "A = 'john'\n",
    "len(A)"
   ]
  },
  {
   "cell_type": "markdown",
   "id": "58438337",
   "metadata": {},
   "source": [
    "### Exercise 8\n",
    " * Create an empty dictionary"
   ]
  },
  {
   "cell_type": "code",
   "execution_count": 59,
   "id": "b041255f",
   "metadata": {},
   "outputs": [
    {
     "data": {
      "text/plain": [
       "{}"
      ]
     },
     "execution_count": 59,
     "metadata": {},
     "output_type": "execute_result"
    }
   ],
   "source": [
    "dictionary = {}\n",
    "dictionary"
   ]
  },
  {
   "cell_type": "markdown",
   "id": "72f4273a",
   "metadata": {},
   "source": [
    " - Another method"
   ]
  },
  {
   "cell_type": "code",
   "execution_count": 60,
   "id": "c1962aa8",
   "metadata": {},
   "outputs": [
    {
     "data": {
      "text/plain": [
       "{}"
      ]
     },
     "execution_count": 60,
     "metadata": {},
     "output_type": "execute_result"
    }
   ],
   "source": [
    "dictionary_1 = dict()\n",
    "dictionary_1"
   ]
  },
  {
   "cell_type": "markdown",
   "id": "ec49fd56",
   "metadata": {},
   "source": [
    "### Exercise 9\n",
    " * Add some key-value pairs to the dictionary"
   ]
  },
  {
   "cell_type": "code",
   "execution_count": 68,
   "id": "9bd92870",
   "metadata": {},
   "outputs": [
    {
     "data": {
      "text/plain": [
       "{'colour': 'Yellow', 'size': 30}"
      ]
     },
     "execution_count": 68,
     "metadata": {},
     "output_type": "execute_result"
    }
   ],
   "source": [
    "dictionary_2 = {\"colour\":\"Yellow\", \"size\":30}\n",
    "dictionary_2"
   ]
  }
 ],
 "metadata": {
  "kernelspec": {
   "display_name": "Python 3 (ipykernel)",
   "language": "python",
   "name": "python3"
  },
  "language_info": {
   "codemirror_mode": {
    "name": "ipython",
    "version": 3
   },
   "file_extension": ".py",
   "mimetype": "text/x-python",
   "name": "python",
   "nbconvert_exporter": "python",
   "pygments_lexer": "ipython3",
   "version": "3.9.12"
  }
 },
 "nbformat": 4,
 "nbformat_minor": 5
}
