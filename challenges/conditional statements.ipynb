{
 "cells": [
  {
   "cell_type": "markdown",
   "id": "f6e45566",
   "metadata": {},
   "source": [
    "## Exercise 1"
   ]
  },
  {
   "cell_type": "markdown",
   "id": "c2252839",
   "metadata": {},
   "source": [
    " -  **Use all the \" Logical Operators \" for x and y values and see if they are True or False.**"
   ]
  },
  {
   "cell_type": "code",
   "execution_count": 7,
   "id": "2f568607",
   "metadata": {},
   "outputs": [
    {
     "name": "stdout",
     "output_type": "stream",
     "text": [
      "x is greater than y:              False\n",
      "x is less than y:                 True\n",
      "x is greater than or equal to y:  False\n",
      "x is less than or equal to y:     True\n",
      "x is equal to y:                  False\n",
      "x is not equal to y:              True\n",
      "True\n",
      "True\n",
      "False\n",
      "True\n"
     ]
    }
   ],
   "source": [
    "x = 4\n",
    "y = 7\n",
    "\n",
    "print(\"x is greater than y:             \", x>y)                 ## Greater than\n",
    "print(\"x is less than y:                \", x<y)                 ## Less than\n",
    "print(\"x is greater than or equal to y: \", x>=y)                ## Greater than or equal to\n",
    "print(\"x is less than or equal to y:    \", x<=y)                ## Less than or equal to\n",
    "print(\"x is equal to y:                 \", x==y)                ## Equal to\n",
    "print(\"x is not equal to y:             \", x!=y)                ## Not equal to\n",
    "print(x>3 and 5<y)                                              ## logical And     ------>  True if both values are true\n",
    "print(x<5 or 3>y)                                               ## logical OR      ------>  True if either of the values is true\n",
    "print(not x!=y)                                                 ## False           ------>  if operand is True\n",
    "print(not x==y)                                                 ## True            ------>  if operand is false\n"
   ]
  },
  {
   "cell_type": "markdown",
   "id": "825b04b0",
   "metadata": {},
   "source": [
    "## Exercise 2"
   ]
  },
  {
   "cell_type": "markdown",
   "id": "f9bc44ee",
   "metadata": {},
   "source": [
    " - **Fill in the blank so that the following expression will be True.**\n",
    "\n",
    " - 3 __ 4"
   ]
  },
  {
   "cell_type": "code",
   "execution_count": 9,
   "id": "df23823f",
   "metadata": {},
   "outputs": [
    {
     "name": "stdout",
     "output_type": "stream",
     "text": [
      "True\n"
     ]
    }
   ],
   "source": [
    "print(3!=4)"
   ]
  },
  {
   "cell_type": "markdown",
   "id": "65421d61",
   "metadata": {},
   "source": [
    "## Exercise 3"
   ]
  },
  {
   "cell_type": "markdown",
   "id": "e7089b7a",
   "metadata": {},
   "source": [
    " - **Test whether this expression is True or False and correct it.**\n",
    " - print('shweta' == 'swetha')"
   ]
  },
  {
   "cell_type": "code",
   "execution_count": 12,
   "id": "ff563c38",
   "metadata": {},
   "outputs": [
    {
     "name": "stdout",
     "output_type": "stream",
     "text": [
      "False\n",
      "True\n"
     ]
    }
   ],
   "source": [
    "print('shweta'=='swetha')\n",
    "\n",
    "print('shweta'=='shweta')"
   ]
  },
  {
   "cell_type": "markdown",
   "id": "2110c20f",
   "metadata": {},
   "source": [
    "## Exercise 4"
   ]
  },
  {
   "cell_type": "markdown",
   "id": "a3d64cdc",
   "metadata": {},
   "source": [
    " - Test whether the length of your input string is <, > or = 5 characters.\n",
    " - **Hint :**  use if elif else conditions"
   ]
  },
  {
   "cell_type": "code",
   "execution_count": 40,
   "id": "880db179",
   "metadata": {},
   "outputs": [
    {
     "name": "stdout",
     "output_type": "stream",
     "text": [
      "ABCDE\n",
      "   string length is less than equal to 5\n"
     ]
    }
   ],
   "source": [
    "string = input()\n",
    "\n",
    "\n",
    "if len(string) < 5:\n",
    "    print(\"   string length is less than 5\")\n",
    "    \n",
    "elif len(string) <= 5:\n",
    "    print(\"   string length is less than equal to 5\")\n",
    "    \n",
    "else:\n",
    "    print(\"   string length is strictly greater than 5\")\n"
   ]
  },
  {
   "cell_type": "code",
   "execution_count": 41,
   "id": "46183f47",
   "metadata": {},
   "outputs": [
    {
     "name": "stdout",
     "output_type": "stream",
     "text": [
      "ABCDEFGH\n",
      "   string length is strictly greater than 5\n"
     ]
    }
   ],
   "source": [
    "string = input()\n",
    "\n",
    "\n",
    "if len(string) < 5:\n",
    "    print(\"   string length is less than 5\")\n",
    "    \n",
    "elif len(string) <= 5:\n",
    "    print(\"   string length is less than equal to 5\")\n",
    "    \n",
    "else:\n",
    "    print(\"   string length is strictly greater than 5\")"
   ]
  },
  {
   "cell_type": "markdown",
   "id": "da226b71",
   "metadata": {},
   "source": [
    "## Exercise 5"
   ]
  },
  {
   "cell_type": "markdown",
   "id": "98a364fe",
   "metadata": {},
   "source": [
    " - Check whether person is **Fully vaccinated** or **Partially vaccinated** or **Not vaccinated.** \n",
    " - Solve string mistakes: (  **.**  |  **,**  |  **:**  |  **covaxine** )\n",
    " - Add partially vaxinated conditions for all the vaccine types.\n",
    "\n",
    " - **Hint :** input : vaccine_name & num_of_doses\n",
    " - **vaccine types :** covaxin, covishield, sputnik"
   ]
  },
  {
   "cell_type": "code",
   "execution_count": 50,
   "id": "3a346075",
   "metadata": {},
   "outputs": [
    {
     "name": "stdout",
     "output_type": "stream",
     "text": [
      "sputnik\n",
      "1\n",
      "Partially vaccinated\n"
     ]
    }
   ],
   "source": [
    "vaccine_name = input()\n",
    "num_of_doses = int(input())\n",
    "\n",
    "vaccine_name = vaccine_name.replace(' ', '')                          # replace extra spaces\n",
    "vaccine_name = vaccine_name.replace('co-vaxin','covaxin')             # replace '-'  with nothing\n",
    "vaccine_name = vaccine_name.replace('covi-shield','covishield')       # replace '-'  with nothing\n",
    "vaccine_name = vaccine_name.lower()                                   # lower case all the characters in string\n",
    "\n",
    "\n",
    "if vaccine_name == \"covishield\":                                ## nested--if\n",
    "    if num_of_doses == 2:                                       ## if body     ---->   if--elif--else\n",
    "        print('Fully vaccinated')\n",
    "    elif num_of_doses == 1:\n",
    "        print('Partially vaccinated')\n",
    "    else:\n",
    "        print('Not fully vaccinated')\n",
    "        \n",
    "        \n",
    "\n",
    "elif vaccine_name == \"covaxin\":                                 ## elif body    ---->   if--elif--else\n",
    "    if num_of_doses == 2:\n",
    "        print('Fully vaccinated')\n",
    "    elif num_of_doses == 1:\n",
    "        print('Partially vaccinated')\n",
    "    else:\n",
    "        print('Not fully Vaccinated') \n",
    "        \n",
    "        \n",
    "        \n",
    "elif vaccine_name == \"sputnik\":                                 ## elif body   ---->   if--elif--else\n",
    "    if num_of_doses == 2:\n",
    "        print('Fully vaccinated')\n",
    "    elif num_of_doses == 1:\n",
    "        print('Partially vaccinated')\n",
    "    else:\n",
    "        print(\"Not fully vaccinated\")\n",
    "        \n",
    "        \n",
    "else:\n",
    "    print(\"Not fully vaccinated\")"
   ]
  },
  {
   "cell_type": "markdown",
   "id": "37130cd3",
   "metadata": {},
   "source": [
    "## Exercise 6"
   ]
  },
  {
   "cell_type": "markdown",
   "id": "1ced6dc2",
   "metadata": {},
   "source": [
    " - Calculate the **square of a number if it greater than 5**."
   ]
  },
  {
   "cell_type": "code",
   "execution_count": 52,
   "id": "38a76dc5",
   "metadata": {},
   "outputs": [
    {
     "name": "stdout",
     "output_type": "stream",
     "text": [
      "4\n",
      "Nothing\n"
     ]
    }
   ],
   "source": [
    "num = int(input())\n",
    "\n",
    "\n",
    "if num > 5:\n",
    "    print(\"Square of number is : \",num**2)\n",
    "else:\n",
    "    print(\"Nothing\")"
   ]
  },
  {
   "cell_type": "code",
   "execution_count": 53,
   "id": "bd96203c",
   "metadata": {},
   "outputs": [
    {
     "name": "stdout",
     "output_type": "stream",
     "text": [
      "6\n",
      "Square of number is :  36\n"
     ]
    }
   ],
   "source": [
    "num = int(input())\n",
    "\n",
    "\n",
    "if num > 5:\n",
    "    print(\"Square of number is : \",num**2)\n",
    "else:\n",
    "    print(\"Nothing\")"
   ]
  }
 ],
 "metadata": {
  "kernelspec": {
   "display_name": "Python 3 (ipykernel)",
   "language": "python",
   "name": "python3"
  },
  "language_info": {
   "codemirror_mode": {
    "name": "ipython",
    "version": 3
   },
   "file_extension": ".py",
   "mimetype": "text/x-python",
   "name": "python",
   "nbconvert_exporter": "python",
   "pygments_lexer": "ipython3",
   "version": "3.9.12"
  }
 },
 "nbformat": 4,
 "nbformat_minor": 5
}
