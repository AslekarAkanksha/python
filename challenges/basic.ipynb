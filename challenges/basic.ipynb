{
 "cells": [
  {
   "cell_type": "markdown",
   "id": "ad08db2d",
   "metadata": {},
   "source": [
    "## 1.  Why python is popular in data science?"
   ]
  },
  {
   "cell_type": "markdown",
   "id": "193864f5",
   "metadata": {},
   "source": [
    "Python is open source, interpreted,high level language and provides great approach for object oriented programming. One of main \n",
    "reason why Python is popular in data science is because of its easeof use and simple syntax which makes it easy to adapt for \n",
    "people who do not have an engineering background. In terms of application areas, ML scientists prefer Python as well.\n",
    "Applications like NLP and sentiment analysis, developers opted for Python, because it provides large collection of libraries \n",
    "that help to solve complex business problem easily, build strong system and data application."
   ]
  },
  {
   "cell_type": "markdown",
   "id": "6a18f17f",
   "metadata": {},
   "source": [
    "## 2. Print your name in python"
   ]
  },
  {
   "cell_type": "code",
   "execution_count": 2,
   "id": "c5d158e0",
   "metadata": {},
   "outputs": [
    {
     "name": "stdout",
     "output_type": "stream",
     "text": [
      "Akanksha\n"
     ]
    }
   ],
   "source": [
    "print('Akanksha')"
   ]
  },
  {
   "cell_type": "markdown",
   "id": "3866dbfa",
   "metadata": {},
   "source": [
    "## 3. Correct the following python line  \n",
    "print(\"Hi)"
   ]
  },
  {
   "cell_type": "code",
   "execution_count": 3,
   "id": "691b7015",
   "metadata": {},
   "outputs": [
    {
     "name": "stdout",
     "output_type": "stream",
     "text": [
      "Hi\n"
     ]
    }
   ],
   "source": [
    "print(\"Hi\")"
   ]
  },
  {
   "cell_type": "markdown",
   "id": "75b71406",
   "metadata": {},
   "source": [
    "## 4. Do the addition of any two numbers and display the output"
   ]
  },
  {
   "cell_type": "code",
   "execution_count": 5,
   "id": "bfc8125b",
   "metadata": {},
   "outputs": [
    {
     "data": {
      "text/plain": [
       "50"
      ]
     },
     "execution_count": 5,
     "metadata": {},
     "output_type": "execute_result"
    }
   ],
   "source": [
    "a = 10\n",
    "b = 40\n",
    "a+b"
   ]
  },
  {
   "cell_type": "markdown",
   "id": "2b818332",
   "metadata": {},
   "source": [
    "## 5.Correct the following python code\n",
    "1var = 10 "
   ]
  },
  {
   "cell_type": "markdown",
   "id": "eed7e248",
   "metadata": {},
   "source": [
    "var1 = 10"
   ]
  }
 ],
 "metadata": {
  "kernelspec": {
   "display_name": "Python 3 (ipykernel)",
   "language": "python",
   "name": "python3"
  },
  "language_info": {
   "codemirror_mode": {
    "name": "ipython",
    "version": 3
   },
   "file_extension": ".py",
   "mimetype": "text/x-python",
   "name": "python",
   "nbconvert_exporter": "python",
   "pygments_lexer": "ipython3",
   "version": "3.9.12"
  }
 },
 "nbformat": 4,
 "nbformat_minor": 5
}
