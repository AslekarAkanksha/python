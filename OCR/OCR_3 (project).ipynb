{
 "cells": [
  {
   "cell_type": "markdown",
   "id": "8ee90389",
   "metadata": {},
   "source": [
    "### Project"
   ]
  },
  {
   "cell_type": "code",
   "execution_count": 2,
   "id": "a24f3b4d",
   "metadata": {},
   "outputs": [],
   "source": [
    "import pytesseract"
   ]
  },
  {
   "cell_type": "code",
   "execution_count": 3,
   "id": "7518618d",
   "metadata": {},
   "outputs": [],
   "source": [
    "pytesseract.pytesseract.tesseract_cmd = r\"C:\\Program Files\\Tesseract-OCR\\tesseract.exe\""
   ]
  },
  {
   "cell_type": "code",
   "execution_count": 4,
   "id": "e9c1428d",
   "metadata": {},
   "outputs": [],
   "source": [
    "import os"
   ]
  },
  {
   "cell_type": "code",
   "execution_count": 5,
   "id": "20562567",
   "metadata": {},
   "outputs": [
    {
     "data": {
      "text/plain": [
       "'E:\\\\OCR'"
      ]
     },
     "execution_count": 5,
     "metadata": {},
     "output_type": "execute_result"
    }
   ],
   "source": [
    "os.getcwd()"
   ]
  },
  {
   "cell_type": "code",
   "execution_count": 6,
   "id": "5ea4e9d3",
   "metadata": {},
   "outputs": [
    {
     "data": {
      "text/plain": [
       "['.ipynb_checkpoints',\n",
       " 'image_1.png',\n",
       " 'OCR_1.ipynb',\n",
       " 'OCR_2.ipynb',\n",
       " 'pancards',\n",
       " 'Untitled.ipynb']"
      ]
     },
     "execution_count": 6,
     "metadata": {},
     "output_type": "execute_result"
    }
   ],
   "source": [
    "os.listdir()"
   ]
  },
  {
   "cell_type": "code",
   "execution_count": 7,
   "id": "4e409b52",
   "metadata": {},
   "outputs": [
    {
     "data": {
      "text/plain": [
       "['pan1.jpg', 'pan2.jpeg', 'pan3.jpg', 'pan4.jpeg', 'pan5.jpeg', 'pan6.jpg']"
      ]
     },
     "execution_count": 7,
     "metadata": {},
     "output_type": "execute_result"
    }
   ],
   "source": [
    "os.listdir(\"pancards\")"
   ]
  },
  {
   "cell_type": "code",
   "execution_count": 8,
   "id": "51b53d98",
   "metadata": {},
   "outputs": [
    {
     "data": {
      "text/plain": [
       "'E:\\\\OCR\\\\pancards'"
      ]
     },
     "execution_count": 8,
     "metadata": {},
     "output_type": "execute_result"
    }
   ],
   "source": [
    "path = os.getcwd() + \"\\\\\" + \"pancards\"               \n",
    "path"
   ]
  },
  {
   "cell_type": "code",
   "execution_count": 9,
   "id": "82fbeb85",
   "metadata": {},
   "outputs": [
    {
     "data": {
      "text/plain": [
       "'E:\\\\OCR\\\\pancards'"
      ]
     },
     "execution_count": 9,
     "metadata": {},
     "output_type": "execute_result"
    }
   ],
   "source": [
    "os.path.join(os.getcwd(),\"pancards\")           ## OR"
   ]
  },
  {
   "cell_type": "code",
   "execution_count": 10,
   "id": "4ef51092",
   "metadata": {},
   "outputs": [
    {
     "data": {
      "text/plain": [
       "'E:\\\\OCR\\\\pancards'"
      ]
     },
     "execution_count": 10,
     "metadata": {},
     "output_type": "execute_result"
    }
   ],
   "source": [
    "folder_path = os.path.join(os.getcwd(),\"pancards\")\n",
    "folder_path"
   ]
  },
  {
   "cell_type": "code",
   "execution_count": 11,
   "id": "1dcd23e5",
   "metadata": {},
   "outputs": [
    {
     "data": {
      "text/plain": [
       "['pan1.jpg', 'pan2.jpeg', 'pan3.jpg', 'pan4.jpeg', 'pan5.jpeg', 'pan6.jpg']"
      ]
     },
     "execution_count": 11,
     "metadata": {},
     "output_type": "execute_result"
    }
   ],
   "source": [
    "os.listdir(folder_path)"
   ]
  },
  {
   "cell_type": "code",
   "execution_count": 12,
   "id": "324d7a99",
   "metadata": {},
   "outputs": [
    {
     "data": {
      "text/plain": [
       "['pan1.jpg', 'pan2.jpeg', 'pan3.jpg', 'pan4.jpeg', 'pan5.jpeg', 'pan6.jpg']"
      ]
     },
     "execution_count": 12,
     "metadata": {},
     "output_type": "execute_result"
    }
   ],
   "source": [
    "file_names = os.listdir(folder_path)\n",
    "file_names"
   ]
  },
  {
   "cell_type": "code",
   "execution_count": 13,
   "id": "4487b193",
   "metadata": {
    "scrolled": false
   },
   "outputs": [
    {
     "name": "stdout",
     "output_type": "stream",
     "text": [
      "pan1.jpg\n",
      "pan2.jpeg\n",
      "pan3.jpg\n",
      "pan4.jpeg\n",
      "pan5.jpeg\n",
      "pan6.jpg\n"
     ]
    }
   ],
   "source": [
    "for file in file_names:\n",
    "    image_path = os.path.join(folder_path,file)\n",
    "    print(file)"
   ]
  },
  {
   "cell_type": "code",
   "execution_count": 14,
   "id": "a8f48615",
   "metadata": {
    "scrolled": true
   },
   "outputs": [
    {
     "name": "stdout",
     "output_type": "stream",
     "text": [
      "&\n",
      "\n",
      "ster ferst\n",
      "\n",
      "INCOME TAX DEPARTMENT. J\n",
      "D MANIKANDAN\n",
      "DURAISAMY\n",
      "16/07/1986\n",
      "ari eld:\n",
      "BNZPM2501F\n",
      "/\n",
      "\n",
      "Signature £ ¥\n",
      "\n"
     ]
    }
   ],
   "source": [
    "text = pytesseract.image_to_string(image_path)          ## this'll gives for 1st pan deatils only\n",
    "print(text)"
   ]
  },
  {
   "cell_type": "code",
   "execution_count": 16,
   "id": "0589da4c",
   "metadata": {},
   "outputs": [],
   "source": [
    "import re"
   ]
  },
  {
   "cell_type": "code",
   "execution_count": 17,
   "id": "918ed1f8",
   "metadata": {},
   "outputs": [
    {
     "data": {
      "text/plain": [
       "'BNZPM2501F'"
      ]
     },
     "execution_count": 17,
     "metadata": {},
     "output_type": "execute_result"
    }
   ],
   "source": [
    "pattern_pan = re.compile(\"[A-Z]{5}\\d{4}[A-Z]\")\n",
    "pattern_pan.search(text).group()"
   ]
  },
  {
   "cell_type": "code",
   "execution_count": 18,
   "id": "2a7a042e",
   "metadata": {},
   "outputs": [
    {
     "name": "stdout",
     "output_type": "stream",
     "text": [
      "BNZPM2501F\n"
     ]
    }
   ],
   "source": [
    "pan = pattern_pan.search(text).group()\n",
    "print(pan)"
   ]
  },
  {
   "cell_type": "code",
   "execution_count": 19,
   "id": "5b9fddae",
   "metadata": {},
   "outputs": [
    {
     "data": {
      "text/plain": [
       "['BNZPM2501F']"
      ]
     },
     "execution_count": 19,
     "metadata": {},
     "output_type": "execute_result"
    }
   ],
   "source": [
    "pan_list = []\n",
    "\n",
    "if pan:\n",
    "    pan_list.append(pan)\n",
    "else:\n",
    "    pan_list.append(\"\")\n",
    "    \n",
    "pan_list"
   ]
  },
  {
   "cell_type": "code",
   "execution_count": 20,
   "id": "c4c747c4",
   "metadata": {},
   "outputs": [
    {
     "data": {
      "text/plain": [
       "'16/07/1986'"
      ]
     },
     "execution_count": 20,
     "metadata": {},
     "output_type": "execute_result"
    }
   ],
   "source": [
    "pattern_dob = re.compile(\"\\d{1,2}[ -/]\\d{1,2}[ -/]\\d{2,4}\")\n",
    "pattern_dob.search(text).group()"
   ]
  },
  {
   "cell_type": "code",
   "execution_count": 21,
   "id": "6cc151e8",
   "metadata": {},
   "outputs": [
    {
     "name": "stdout",
     "output_type": "stream",
     "text": [
      "16/07/1986\n"
     ]
    }
   ],
   "source": [
    "dob = pattern_dob.search(text).group()\n",
    "print(dob)"
   ]
  },
  {
   "cell_type": "code",
   "execution_count": 22,
   "id": "084358c4",
   "metadata": {},
   "outputs": [
    {
     "data": {
      "text/plain": [
       "['16/07/1986']"
      ]
     },
     "execution_count": 22,
     "metadata": {},
     "output_type": "execute_result"
    }
   ],
   "source": [
    "dob_list = []\n",
    "\n",
    "if dob:\n",
    "    dob_list.append(dob)\n",
    "else:\n",
    "    dob_list.append(\"\")\n",
    "    \n",
    "dob_list"
   ]
  },
  {
   "cell_type": "code",
   "execution_count": 26,
   "id": "6128d2ce",
   "metadata": {},
   "outputs": [],
   "source": [
    "import pandas as pd"
   ]
  },
  {
   "cell_type": "code",
   "execution_count": 49,
   "id": "1c90f697",
   "metadata": {},
   "outputs": [
    {
     "data": {
      "text/plain": [
       "{'Pan Card Number': ['BNZPM2501F',\n",
       "  'EJAPS0276M',\n",
       "  'BNZPM2501F',\n",
       "  'EJAPS0276M',\n",
       "  'EJAPS0276M',\n",
       "  'BNZPM2501F'],\n",
       " 'DOB': ['16/07/1986',\n",
       "  '31/10/1992',\n",
       "  '16/07/1986',\n",
       "  '31/10/1992',\n",
       "  '31/10/1992',\n",
       "  '16/07/1986']}"
      ]
     },
     "execution_count": 49,
     "metadata": {},
     "output_type": "execute_result"
    }
   ],
   "source": [
    "dict_1 = {\"Pan Card Number\":pan_list,\"DOB\":dob_list}\n",
    "dict_1"
   ]
  },
  {
   "cell_type": "markdown",
   "id": "de466d53",
   "metadata": {},
   "source": [
    " "
   ]
  },
  {
   "cell_type": "markdown",
   "id": "14c4c496",
   "metadata": {},
   "source": [
    " "
   ]
  },
  {
   "cell_type": "markdown",
   "id": "e7fe615c",
   "metadata": {},
   "source": [
    "# PROJECT"
   ]
  },
  {
   "cell_type": "code",
   "execution_count": null,
   "id": "7e2b8cd5",
   "metadata": {},
   "outputs": [],
   "source": [
    "import os\n",
    "import pytesseract\n",
    "pytesseract.pytesseract.tesseract_cmd = r\"C:\\Program Files\\Tesseract-OCR\\tesseract.exe\"\n",
    "import re\n",
    "import pandas as pd"
   ]
  },
  {
   "cell_type": "code",
   "execution_count": 23,
   "id": "8be2ba98",
   "metadata": {},
   "outputs": [],
   "source": [
    "folder_path = os.path.join(os.getcwd(),\"pancards\")\n",
    "file_name = os.listdir(folder_path)\n",
    "\n",
    "pan_list = []\n",
    "dob_list = []\n",
    "\n",
    "for file in file_names:\n",
    "    image_path = os.path.join(folder_path,file)\n",
    "    text = pytesseract.image_to_string(image_path)\n",
    "    \n",
    "    pattern_pan = re.compile(\"[A-Z]{5}\\d{4}[A-Z]\")\n",
    "    pan = pattern_pan.search(text).group()\n",
    "    \n",
    "    if pan:\n",
    "        pan_list.append(pan)\n",
    "    else:\n",
    "        pan_list.append(\"\")\n",
    "        \n",
    "    pattern_dob = re.compile(\"\\d{1,2}[ -/]\\d{1,2}[ -/]\\d{2,4}\")\n",
    "    dob = pattern_dob.search(text).group()\n",
    "    \n",
    "    if dob:\n",
    "        dob_list.append(dob)\n",
    "    else:\n",
    "        dob_list.append(\"\")"
   ]
  },
  {
   "cell_type": "code",
   "execution_count": 24,
   "id": "6c89b2a7",
   "metadata": {},
   "outputs": [
    {
     "data": {
      "text/plain": [
       "['BNZPM2501F',\n",
       " 'EJAPS0276M',\n",
       " 'BNZPM2501F',\n",
       " 'EJAPS0276M',\n",
       " 'EJAPS0276M',\n",
       " 'BNZPM2501F']"
      ]
     },
     "execution_count": 24,
     "metadata": {},
     "output_type": "execute_result"
    }
   ],
   "source": [
    "pan_list"
   ]
  },
  {
   "cell_type": "code",
   "execution_count": 25,
   "id": "9691f549",
   "metadata": {
    "scrolled": true
   },
   "outputs": [
    {
     "data": {
      "text/plain": [
       "['16/07/1986',\n",
       " '31/10/1992',\n",
       " '16/07/1986',\n",
       " '31/10/1992',\n",
       " '31/10/1992',\n",
       " '16/07/1986']"
      ]
     },
     "execution_count": 25,
     "metadata": {},
     "output_type": "execute_result"
    }
   ],
   "source": [
    "dob_list"
   ]
  },
  {
   "cell_type": "code",
   "execution_count": 50,
   "id": "6439232c",
   "metadata": {},
   "outputs": [
    {
     "data": {
      "text/plain": [
       "{'Pan Card Number': ['BNZPM2501F',\n",
       "  'EJAPS0276M',\n",
       "  'BNZPM2501F',\n",
       "  'EJAPS0276M',\n",
       "  'EJAPS0276M',\n",
       "  'BNZPM2501F'],\n",
       " 'DOB': ['16/07/1986',\n",
       "  '31/10/1992',\n",
       "  '16/07/1986',\n",
       "  '31/10/1992',\n",
       "  '31/10/1992',\n",
       "  '16/07/1986']}"
      ]
     },
     "execution_count": 50,
     "metadata": {},
     "output_type": "execute_result"
    }
   ],
   "source": [
    "dict_1 = {\"Pan Card Number\":pan_list,\"DOB\":dob_list}\n",
    "dict_1"
   ]
  },
  {
   "cell_type": "code",
   "execution_count": 52,
   "id": "84d2a550",
   "metadata": {},
   "outputs": [
    {
     "data": {
      "text/html": [
       "<div>\n",
       "<style scoped>\n",
       "    .dataframe tbody tr th:only-of-type {\n",
       "        vertical-align: middle;\n",
       "    }\n",
       "\n",
       "    .dataframe tbody tr th {\n",
       "        vertical-align: top;\n",
       "    }\n",
       "\n",
       "    .dataframe thead th {\n",
       "        text-align: right;\n",
       "    }\n",
       "</style>\n",
       "<table border=\"1\" class=\"dataframe\">\n",
       "  <thead>\n",
       "    <tr style=\"text-align: right;\">\n",
       "      <th></th>\n",
       "      <th>Pan Card Number</th>\n",
       "      <th>DOB</th>\n",
       "    </tr>\n",
       "  </thead>\n",
       "  <tbody>\n",
       "    <tr>\n",
       "      <th>0</th>\n",
       "      <td>BNZPM2501F</td>\n",
       "      <td>16/07/1986</td>\n",
       "    </tr>\n",
       "    <tr>\n",
       "      <th>1</th>\n",
       "      <td>EJAPS0276M</td>\n",
       "      <td>31/10/1992</td>\n",
       "    </tr>\n",
       "    <tr>\n",
       "      <th>2</th>\n",
       "      <td>BNZPM2501F</td>\n",
       "      <td>16/07/1986</td>\n",
       "    </tr>\n",
       "    <tr>\n",
       "      <th>3</th>\n",
       "      <td>EJAPS0276M</td>\n",
       "      <td>31/10/1992</td>\n",
       "    </tr>\n",
       "    <tr>\n",
       "      <th>4</th>\n",
       "      <td>EJAPS0276M</td>\n",
       "      <td>31/10/1992</td>\n",
       "    </tr>\n",
       "    <tr>\n",
       "      <th>5</th>\n",
       "      <td>BNZPM2501F</td>\n",
       "      <td>16/07/1986</td>\n",
       "    </tr>\n",
       "  </tbody>\n",
       "</table>\n",
       "</div>"
      ],
      "text/plain": [
       "  Pan Card Number         DOB\n",
       "0      BNZPM2501F  16/07/1986\n",
       "1      EJAPS0276M  31/10/1992\n",
       "2      BNZPM2501F  16/07/1986\n",
       "3      EJAPS0276M  31/10/1992\n",
       "4      EJAPS0276M  31/10/1992\n",
       "5      BNZPM2501F  16/07/1986"
      ]
     },
     "execution_count": 52,
     "metadata": {},
     "output_type": "execute_result"
    }
   ],
   "source": [
    "df = pd.DataFrame(dict_1)\n",
    "df"
   ]
  },
  {
   "cell_type": "code",
   "execution_count": 53,
   "id": "fa465494",
   "metadata": {},
   "outputs": [],
   "source": [
    "df.to_excel(\"PanCardDetails.xlsx\")"
   ]
  },
  {
   "cell_type": "code",
   "execution_count": 54,
   "id": "ff6b46bf",
   "metadata": {},
   "outputs": [],
   "source": [
    "df.to_csv(\"PanCardDetails.csv\")"
   ]
  }
 ],
 "metadata": {
  "kernelspec": {
   "display_name": "Python 3 (ipykernel)",
   "language": "python",
   "name": "python3"
  },
  "language_info": {
   "codemirror_mode": {
    "name": "ipython",
    "version": 3
   },
   "file_extension": ".py",
   "mimetype": "text/x-python",
   "name": "python",
   "nbconvert_exporter": "python",
   "pygments_lexer": "ipython3",
   "version": "3.11.4"
  }
 },
 "nbformat": 4,
 "nbformat_minor": 5
}
