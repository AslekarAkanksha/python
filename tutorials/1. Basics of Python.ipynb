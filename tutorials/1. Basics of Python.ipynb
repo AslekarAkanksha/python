{
 "cells": [
  {
   "cell_type": "markdown",
   "metadata": {
    "id": "ZEiB5oR2qPiN"
   },
   "source": [
    "# Basic of python\n",
    "\n",
    "## 1. Basic\n",
    "* *Adding Comment*\n",
    "* *Print function*\n",
    "* *Statements*"
   ]
  },
  {
   "cell_type": "markdown",
   "metadata": {
    "id": "7NkcmutZqPiO"
   },
   "source": [
    "### I)   Adding Comment :\n",
    " #### -  *To add comment we can use ' # ' in code.*\n",
    " #### -  *Also we can use  \"\"\" Hello Python \"\"\" for multiple lines.*"
   ]
  },
  {
   "cell_type": "code",
   "execution_count": 25,
   "metadata": {},
   "outputs": [
    {
     "data": {
      "text/plain": [
       "9"
      ]
     },
     "execution_count": 25,
     "metadata": {},
     "output_type": "execute_result"
    }
   ],
   "source": [
    "## single line comment\n",
    "\n",
    "\n",
    "var1 = 9      # value 9 stored in variable name 'var1'\n",
    "var1"
   ]
  },
  {
   "cell_type": "code",
   "execution_count": 8,
   "metadata": {},
   "outputs": [
    {
     "data": {
      "text/plain": [
       "2"
      ]
     },
     "execution_count": 8,
     "metadata": {},
     "output_type": "execute_result"
    }
   ],
   "source": [
    "var2 = 6-4    # substraction of two numbers\n",
    "var2"
   ]
  },
  {
   "cell_type": "code",
   "execution_count": 17,
   "metadata": {},
   "outputs": [
    {
     "data": {
      "text/plain": [
       "10"
      ]
     },
     "execution_count": 17,
     "metadata": {},
     "output_type": "execute_result"
    }
   ],
   "source": [
    "## Multiple line comment\n",
    "\n",
    "var3 = 10\n",
    "\n",
    "'''value 10\n",
    "stored in \n",
    "variable \n",
    "name var3'''\n",
    "\n",
    "var3"
   ]
  },
  {
   "cell_type": "markdown",
   "metadata": {
    "id": "DbDrANdpqPiP"
   },
   "source": [
    "### II)  Print Function :\n",
    " #### -  *In python if we want call function then we can use simply their name follwed by arguments if exists in parentheses.*\n",
    " #### - *In print function we give what we need to print in parentheses.*"
   ]
  },
  {
   "cell_type": "code",
   "execution_count": 2,
   "metadata": {
    "id": "_JCe7qhTqPiQ",
    "outputId": "3c2f9e53-a793-400a-c6b9-f83d0cdb4566"
   },
   "outputs": [
    {
     "name": "stdout",
     "output_type": "stream",
     "text": [
      "Hello World\n"
     ]
    }
   ],
   "source": [
    "##  Lets run our first python code by printing \"Hello World\" \n",
    "\n",
    "\n",
    "print(\"Hello World\")"
   ]
  },
  {
   "cell_type": "code",
   "execution_count": 5,
   "metadata": {},
   "outputs": [
    {
     "name": "stdout",
     "output_type": "stream",
     "text": [
      "PYTHON IS THE BEST LANGUAGE\n"
     ]
    }
   ],
   "source": [
    "##  Lets run our first python code by printing \"PYTHON IS THE BEST LANGUAGE\" \n",
    "\n",
    "\n",
    "print(\"PYTHON IS THE BEST LANGUAGE\")"
   ]
  },
  {
   "cell_type": "markdown",
   "metadata": {},
   "source": [
    "### III)  Statements :"
   ]
  },
  {
   "cell_type": "code",
   "execution_count": 6,
   "metadata": {},
   "outputs": [
    {
     "data": {
      "text/plain": [
       "30"
      ]
     },
     "execution_count": 6,
     "metadata": {},
     "output_type": "execute_result"
    }
   ],
   "source": [
    "## Single line statement\n",
    "\n",
    "\n",
    "A = 10 + 20\n",
    "A"
   ]
  },
  {
   "cell_type": "code",
   "execution_count": 17,
   "metadata": {},
   "outputs": [
    {
     "data": {
      "text/plain": [
       "100"
      ]
     },
     "execution_count": 17,
     "metadata": {},
     "output_type": "execute_result"
    }
   ],
   "source": [
    "## Multiple line statement\n",
    "\n",
    "\n",
    "B = 10 + 20 + 30\\\n",
    "    + 40 + 50 + 60\\\n",
    "    + 70 + 80 - 260\n",
    "B"
   ]
  },
  {
   "cell_type": "markdown",
   "metadata": {},
   "source": [
    "## 2. Python Identifiers\n",
    " * *Variable assignment*\n",
    " * *Assigning 'string' (str) value to variable*\n",
    " * *Assigning numerical value to variable*\n",
    " * *We can recall variable name for printing output instead of using print function (only in jupyter notebook)*"
   ]
  },
  {
   "cell_type": "markdown",
   "metadata": {
    "id": "8zasyrvFqPiT"
   },
   "source": [
    "###### ----- We have to take care of following things while writing identifiers :\n",
    "1. *It can be of any length.*\n",
    "2. *It can be combination of lower cases (a-z) , upper cases (A-Z) and digits (0-9).*\n",
    "3. *It can't be start with digit.*\n",
    "4. *It can't be include special symbols like { !, @, #, &, $ }*\n",
    "5. *We can use '_' i.e underscore in identifire for attaching two strings or one string and one number.*\n",
    "6. *We can't give space between letters, words or between letter and digit.*\n",
    "7. *We can't use python keywords as a python identifier*\n",
    "\n",
    "###### ----- Python keywords :\n",
    "\n",
    "**in , and , or , if , else , elif , def , while , break , True , False , etc.**\n",
    "\n",
    "Python keywords are used to define the syntax and structure of the Python language."
   ]
  },
  {
   "cell_type": "code",
   "execution_count": 24,
   "metadata": {},
   "outputs": [],
   "source": [
    "## Examples of python identifiers"
   ]
  },
  {
   "cell_type": "markdown",
   "metadata": {
    "id": "z0uq715eqPiU"
   },
   "source": [
    "We can write identifier of any length like \n",
    "- myname\n",
    "- myvillage\n",
    "- myschoolmarks"
   ]
  },
  {
   "cell_type": "markdown",
   "metadata": {
    "id": "n4NSvM8pqPiW"
   },
   "source": [
    "Identifiers using underscore  \n",
    "- my_name \n",
    "- my_number \n",
    "- my_village"
   ]
  },
  {
   "cell_type": "markdown",
   "metadata": {
    "id": "Fp0JylB4qPiW"
   },
   "source": [
    "We  **can't**  start our identifier by digit\n",
    "- 1stvariable \n",
    "- 19thnumber\n"
   ]
  },
  {
   "cell_type": "markdown",
   "metadata": {
    "id": "D_Nm-30qqPiX"
   },
   "source": [
    "We **can't** include any special symbol at any position while writing identifier \n",
    "- name@\n",
    "- hello!\n",
    "- time@2pm\n",
    "- $rupees\n",
    "- #brand "
   ]
  },
  {
   "cell_type": "markdown",
   "metadata": {
    "id": "L6ONi4zgqPiX"
   },
   "source": [
    "We **can't** write identifier using space between characcters \n",
    "- my name \n",
    "- my number \n",
    "- my village "
   ]
  },
  {
   "cell_type": "markdown",
   "metadata": {
    "id": "wCyfbUSoqPiX"
   },
   "source": [
    "### I)  Variable assignment : "
   ]
  },
  {
   "cell_type": "markdown",
   "metadata": {
    "id": "c2KTZUSHqPiX"
   },
   "source": [
    "#### 1. *Variable is used to store value and we use '=' i.e. assignment operator to assign value to it.*\n",
    "#### 2. *We can assign any value to variable i.e. both categorical and numerical.*"
   ]
  },
  {
   "cell_type": "code",
   "execution_count": 26,
   "metadata": {},
   "outputs": [
    {
     "data": {
      "text/plain": [
       "'Akanksha'"
      ]
     },
     "execution_count": 26,
     "metadata": {},
     "output_type": "execute_result"
    }
   ],
   "source": [
    "my_name = \"Akanksha\"\n",
    "my_name"
   ]
  },
  {
   "cell_type": "markdown",
   "metadata": {
    "id": "yHiNe_bXqPiY"
   },
   "source": [
    "### II)  Assigning 'string' (str) value to variable"
   ]
  },
  {
   "cell_type": "code",
   "execution_count": 27,
   "metadata": {
    "id": "IvOHFNIIqPiY",
    "outputId": "51365f7a-cde3-4abc-cc00-6b4f349c9137"
   },
   "outputs": [
    {
     "name": "stdout",
     "output_type": "stream",
     "text": [
      "Akanksha\n"
     ]
    }
   ],
   "source": [
    "## Here we assign Akanksha string value to my_name variable\n",
    "\n",
    "\n",
    "my_name = \"Akanksha\"\n",
    "print(my_name)"
   ]
  },
  {
   "cell_type": "code",
   "execution_count": 28,
   "metadata": {
    "id": "BRpisccLqPiY",
    "outputId": "3ee7a5d2-269e-4066-ce7e-367310c05c1c"
   },
   "outputs": [
    {
     "data": {
      "text/plain": [
       "str"
      ]
     },
     "execution_count": 28,
     "metadata": {},
     "output_type": "execute_result"
    }
   ],
   "source": [
    "## we can check type of variable i.e type of it's value \n",
    "\n",
    "\n",
    "type(my_name)"
   ]
  },
  {
   "cell_type": "code",
   "execution_count": 30,
   "metadata": {
    "id": "OrkuYjOWqPia",
    "outputId": "5cbf8eaf-0d40-4c2c-e605-d5cce000f669"
   },
   "outputs": [
    {
     "name": "stdout",
     "output_type": "stream",
     "text": [
      "Rutu\n"
     ]
    }
   ],
   "source": [
    "##  we can update value of variable and once variable get updated it will give updated value after calling this variable.\n",
    "\n",
    "\n",
    "my_name= \"Rutu\"\n",
    "print(my_name)"
   ]
  },
  {
   "cell_type": "code",
   "execution_count": 35,
   "metadata": {
    "id": "7E1mEn30qPia",
    "outputId": "bbd1123c-96ef-4f38-e2e9-b633f614da29"
   },
   "outputs": [
    {
     "name": "stdout",
     "output_type": "stream",
     "text": [
      "She's from Satara,\n",
      "        but lives in Pune.\n"
     ]
    }
   ],
   "source": [
    "##  we can assign whole statement to single variable.\n",
    "\n",
    "\n",
    "place = '''She's from Satara,\n",
    "        but lives in Pune.'''\n",
    "print(place)"
   ]
  },
  {
   "cell_type": "markdown",
   "metadata": {
    "id": "TrSi0qtvqPia"
   },
   "source": [
    "###  II)   Assigning numerical value to variable :"
   ]
  },
  {
   "cell_type": "markdown",
   "metadata": {
    "id": "hghxH3I9qPib"
   },
   "source": [
    "#### --- There are two types of numbers \n",
    "#### 1. *Integer : An integer is a number with no decimal or fractional part, from the set of negative and positive numbers,                                                     including zero* \n",
    "#### 2. *Float :  A float is a number with a decimal place*"
   ]
  },
  {
   "cell_type": "code",
   "execution_count": 36,
   "metadata": {
    "id": "sWzpXBmTqPib",
    "outputId": "dfc3c4e5-3f35-447a-bf87-c2d59ca977e3"
   },
   "outputs": [
    {
     "name": "stdout",
     "output_type": "stream",
     "text": [
      "0\n"
     ]
    }
   ],
   "source": [
    "## Here we assign integer number 5 to my_number variable.\n",
    "\n",
    "\n",
    "my_number =  0\n",
    "print(my_number)"
   ]
  },
  {
   "cell_type": "code",
   "execution_count": 37,
   "metadata": {
    "id": "80s6Bj_0qPib",
    "outputId": "a8067ef3-06fe-46b1-c5aa-c69817d5ee6e"
   },
   "outputs": [
    {
     "data": {
      "text/plain": [
       "int"
      ]
     },
     "execution_count": 37,
     "metadata": {},
     "output_type": "execute_result"
    }
   ],
   "source": [
    "type(my_number)"
   ]
  },
  {
   "cell_type": "code",
   "execution_count": 38,
   "metadata": {
    "id": "v0fBQ-iNqPib",
    "outputId": "10244644-2bd9-4bc1-a936-396db1dd068b"
   },
   "outputs": [
    {
     "name": "stdout",
     "output_type": "stream",
     "text": [
      "7\n"
     ]
    }
   ],
   "source": [
    "## we can also update interger value of variable.\n",
    "\n",
    "\n",
    "num = 7\n",
    "print(num)"
   ]
  },
  {
   "cell_type": "code",
   "execution_count": 39,
   "metadata": {},
   "outputs": [
    {
     "data": {
      "text/plain": [
       "int"
      ]
     },
     "execution_count": 39,
     "metadata": {},
     "output_type": "execute_result"
    }
   ],
   "source": [
    "type(num)"
   ]
  },
  {
   "cell_type": "code",
   "execution_count": 40,
   "metadata": {
    "id": "0AiUPwhxqPic",
    "outputId": "ff672052-8144-4942-ab4c-f289f84fa023"
   },
   "outputs": [
    {
     "name": "stdout",
     "output_type": "stream",
     "text": [
      "5.4\n"
     ]
    }
   ],
   "source": [
    "## Here we assign real number 5.4 to my_num variable.\n",
    "\n",
    "\n",
    "my_num = 5.4\n",
    "print(my_num)"
   ]
  },
  {
   "cell_type": "code",
   "execution_count": 41,
   "metadata": {
    "id": "XGK8Q8vqqPic",
    "outputId": "6bfe9adf-6c18-4a91-b240-002a55249ab5"
   },
   "outputs": [
    {
     "data": {
      "text/plain": [
       "float"
      ]
     },
     "execution_count": 41,
     "metadata": {},
     "output_type": "execute_result"
    }
   ],
   "source": [
    "type(my_num)"
   ]
  },
  {
   "cell_type": "markdown",
   "metadata": {
    "id": "t6tOGv6NqPic"
   },
   "source": [
    "###  IV)  We can recall variable name for printing output instead of using print function :"
   ]
  },
  {
   "cell_type": "code",
   "execution_count": 43,
   "metadata": {
    "id": "QvQriOP4qPid",
    "outputId": "8a1afdc4-e8e2-4ace-f769-9aadd84952c1"
   },
   "outputs": [
    {
     "data": {
      "text/plain": [
       "0"
      ]
     },
     "execution_count": 43,
     "metadata": {},
     "output_type": "execute_result"
    }
   ],
   "source": [
    "my_number"
   ]
  },
  {
   "cell_type": "code",
   "execution_count": 44,
   "metadata": {},
   "outputs": [
    {
     "data": {
      "text/plain": [
       "7"
      ]
     },
     "execution_count": 44,
     "metadata": {},
     "output_type": "execute_result"
    }
   ],
   "source": [
    "num"
   ]
  },
  {
   "cell_type": "code",
   "execution_count": 45,
   "metadata": {
    "id": "it4LEt-gqPid",
    "outputId": "20a3cb6b-7cb8-4b43-adfd-513ddcef94f8"
   },
   "outputs": [
    {
     "data": {
      "text/plain": [
       "7.5"
      ]
     },
     "execution_count": 45,
     "metadata": {},
     "output_type": "execute_result"
    }
   ],
   "source": [
    "my_num"
   ]
  },
  {
   "cell_type": "markdown",
   "metadata": {},
   "source": [
    "."
   ]
  },
  {
   "cell_type": "markdown",
   "metadata": {},
   "source": [
    "."
   ]
  },
  {
   "cell_type": "code",
   "execution_count": 47,
   "metadata": {
    "id": "8dWO6JSRqPid",
    "outputId": "99193f9d-b352-4ae8-db8a-8f1562377ba9"
   },
   "outputs": [
    {
     "data": {
      "text/plain": [
       "7"
      ]
     },
     "execution_count": 47,
     "metadata": {},
     "output_type": "execute_result"
    }
   ],
   "source": [
    "## jupyter notebook cell prints last code line.\n",
    "\n",
    "my_number\n",
    "num"
   ]
  },
  {
   "cell_type": "code",
   "execution_count": 54,
   "metadata": {
    "id": "3rCwPQrXqPid",
    "outputId": "7b0ea60f-d716-4aec-d3e2-686eb556e694"
   },
   "outputs": [
    {
     "name": "stdout",
     "output_type": "stream",
     "text": [
      "7.5\n"
     ]
    },
    {
     "data": {
      "text/plain": [
       "7"
      ]
     },
     "execution_count": 54,
     "metadata": {},
     "output_type": "execute_result"
    }
   ],
   "source": [
    "## if we want print more outputs of same cell then we need to use print function.\n",
    "\n",
    "print(my_num)\n",
    "num"
   ]
  },
  {
   "cell_type": "code",
   "execution_count": 55,
   "metadata": {},
   "outputs": [
    {
     "name": "stdout",
     "output_type": "stream",
     "text": [
      "7.5\n",
      "7\n"
     ]
    }
   ],
   "source": [
    "print(my_num)\n",
    "print(num)"
   ]
  },
  {
   "cell_type": "code",
   "execution_count": 62,
   "metadata": {},
   "outputs": [
    {
     "name": "stdout",
     "output_type": "stream",
     "text": [
      "10\n",
      "2.5\n",
      "Python\n"
     ]
    }
   ],
   "source": [
    "## Multiple Assignments\n",
    "\n",
    "\n",
    "int_1,float_2,str_3 = 10,2.5,'Python'           # Using commas to separate\n",
    "print(int_1)\n",
    "print(float_2)\n",
    "print(str_3)"
   ]
  },
  {
   "cell_type": "code",
   "execution_count": 63,
   "metadata": {},
   "outputs": [
    {
     "name": "stdout",
     "output_type": "stream",
     "text": [
      "21 21 21 21\n"
     ]
    }
   ],
   "source": [
    "# All variables pointing to same value.\n",
    "\n",
    "\n",
    "a = b = c = d = 21 \n",
    "print(a,b,c,d)"
   ]
  },
  {
   "cell_type": "markdown",
   "metadata": {},
   "source": [
    "."
   ]
  },
  {
   "cell_type": "markdown",
   "metadata": {},
   "source": [
    "."
   ]
  },
  {
   "cell_type": "markdown",
   "metadata": {},
   "source": [
    "## 3. Data Types\n",
    "####  *1. Numeric - Float and integer*\n",
    "####  *2. String*\n",
    "####  *3. Boolean*"
   ]
  },
  {
   "cell_type": "code",
   "execution_count": 64,
   "metadata": {},
   "outputs": [
    {
     "name": "stdout",
     "output_type": "stream",
     "text": [
      "5.4\n",
      "6.2\n"
     ]
    }
   ],
   "source": [
    "## Numeric\n",
    "\n",
    "\n",
    "var1 = 5.4        # Integer data type\n",
    "var2 = 6.2        # Float data type\n",
    "print(var1)\n",
    "print(var2)"
   ]
  },
  {
   "cell_type": "code",
   "execution_count": 66,
   "metadata": {},
   "outputs": [
    {
     "name": "stdout",
     "output_type": "stream",
     "text": [
      "HELLO PYTHON\n"
     ]
    }
   ],
   "source": [
    "## String\n",
    "\n",
    "\n",
    "str_2 = \"HELLO PYTHON\"\n",
    "print(str_2)"
   ]
  },
  {
   "cell_type": "code",
   "execution_count": 65,
   "metadata": {},
   "outputs": [
    {
     "name": "stdout",
     "output_type": "stream",
     "text": [
      "True\n",
      "False\n"
     ]
    }
   ],
   "source": [
    "# Boolean data type can have only two possible values true or false.\n",
    "\n",
    "\n",
    "bool_1 = True\n",
    "bool_2 = False\n",
    "print(bool_1)\n",
    "print(bool_2)"
   ]
  }
 ],
 "metadata": {
  "colab": {
   "name": "Basics of Python.ipynb",
   "provenance": []
  },
  "kernelspec": {
   "display_name": "Python 3 (ipykernel)",
   "language": "python",
   "name": "python3"
  },
  "language_info": {
   "codemirror_mode": {
    "name": "ipython",
    "version": 3
   },
   "file_extension": ".py",
   "mimetype": "text/x-python",
   "name": "python",
   "nbconvert_exporter": "python",
   "pygments_lexer": "ipython3",
   "version": "3.9.12"
  }
 },
 "nbformat": 4,
 "nbformat_minor": 1
}
